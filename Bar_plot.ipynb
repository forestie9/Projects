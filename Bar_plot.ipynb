{
 "cells": [
  {
   "cell_type": "code",
   "execution_count": 110,
   "metadata": {
    "collapsed": false
   },
   "outputs": [
    {
     "name": "stdout",
     "output_type": "stream",
     "text": [
      "Requirement already satisfied (use --upgrade to upgrade): seaborn in c:\\users\\wzd0011\\appdata\\local\\continuum\\anaconda3\\lib\\site-packages\n"
     ]
    },
    {
     "name": "stderr",
     "output_type": "stream",
     "text": [
      "You are using pip version 8.1.2, however version 10.0.1 is available.\n",
      "You should consider upgrading via the 'python -m pip install --upgrade pip' command.\n"
     ]
    },
    {
     "data": {
      "text/plain": [
       "18"
      ]
     },
     "execution_count": 110,
     "metadata": {},
     "output_type": "execute_result"
    }
   ],
   "source": [
    "#!conda install seaborn\n",
    "import pip\n",
    "pip.main(['install','seaborn'])\n",
    "from scipy.io import loadmat\n",
    "import pandas as pd\n",
    "import matplotlib.pyplot as plt\n",
    "import seaborn as sns\n",
    "import numpy as np\n",
    "import matplotlib.font_manager\n",
    "a = loadmat('Exp_UN3_result_5.mat', variable_names=['hc_cal'])\n",
    "d = a['hc_cal']\n",
    "d.shape[0]\n",
    "#print(d)\n"
   ]
  },
  {
   "cell_type": "code",
   "execution_count": 111,
   "metadata": {
    "collapsed": false
   },
   "outputs": [],
   "source": [
    "data = np.zeros((3,18,9))\n",
    "for j in range(d.shape[2]):\n",
    "    for i in range(d.shape[0]):\n",
    "        c = d[i,:,j]\n",
    "        data[j,i,:]=c\n",
    "\n",
    "#print(data)"
   ]
  },
  {
   "cell_type": "code",
   "execution_count": 112,
   "metadata": {
    "collapsed": false
   },
   "outputs": [],
   "source": [
    "X=['1%','2%','5%','10%','20%','50%','100%'] #,'200%','500%']\n",
    "pos = ['3','6','9','12','15','18']\n",
    "hatches_ind = ['-', '.', '/', 'o', ' ', '\\\\']\n",
    "#patterns = [ \"|\" , \"\\\\\" , \"/\" , \"+\" , \"-\", \".\", \"*\",\"x\", \"o\", \"O\" ]\n",
    "data2=data[:,::3,:-2] \n",
    "#print(data2)\n",
    "for i in range(data2.shape[0]):\n",
    "    df = pd.DataFrame(np.transpose(data2[i,:,:]), columns=pos)\n",
    "    fig = plt.figure(figsize=(10,7.5))\n",
    "    ax = fig.add_subplot(111)\n",
    "    #ax=plt.figure(figsize=(10, 6)).add_subplot(111)\n",
    "    df.plot(ax=ax, kind='bar', legend=False, color='white', edgecolor='black',width=0.75,linewidth = 2)\n",
    "\n",
    "    bars = ax.patches\n",
    "    hatches = ''.join(h*len(df) for h in hatches_ind)\n",
    "\n",
    "    for bar, hatch in zip(bars, hatches):\n",
    "        bar.set_hatch(hatch)\n",
    "\n",
    "    ax.set_xlim(-0.5, None)\n",
    "    ax.set_xticklabels(X)\n",
    "    ax.autoscale(tight=True)\n",
    "    #ax.margins(y=0)\n",
    "    ax.legend(loc='best', frameon=True, labelspacing=0.2, borderpad=0.5, prop={'size': 20})\n",
    "    ax.grid(which='major', axis='both', linestyle='-.')\n",
    "    ax.set_xlabel('Percentage of standard deviation', size = 20)\n",
    "    ax.set_ylabel('Probability', size = 20)\n",
    "    \n",
    "    plt.xticks(fontsize=20, rotation=0)\n",
    "    plt.yticks(fontsize=20, rotation=0)\n",
    "    plt.ylim([0,1])\n",
    "    #plt.grid(True)\n",
    "    plt.rcParams[\"axes.edgecolor\"] = \"black\"\n",
    "    plt.rcParams[\"axes.linewidth\"] = 2   \n",
    "    \n",
    "    plt.savefig('GraphC_{}.png'.format(i), format=\"PNG\", bbox_inches='tight')\n",
    "    \n",
    "#plt.show() "
   ]
  },
  {
   "cell_type": "code",
   "execution_count": null,
   "metadata": {
    "collapsed": true
   },
   "outputs": [],
   "source": [
    "    font = matplotlib.font_manager.FontProperties(family='Times New Roman',\n",
    "                                       weight='bold',\n",
    "                                       style='normal', size=40)\n",
    "    ax.legend(prop=font)  \n",
    "    \n",
    "        #ax.legend(ncol=len(df.columns), loc=\"upper right\", bbox_to_anchor=(0,1.02,1,0.08), \n",
    "     #         borderaxespad=0, mode=\"expand\")\n",
    "\n",
    "    font = matplotlib.font_manager.FontProperties(family='Times New Roman',\n",
    "                                       weight='bold',\n",
    "                                       style='normal', size=40)\n",
    "    ax.legend(prop=font)  \n",
    "    \n",
    "    leg = plt.legend()\n",
    "    leg.get_frame().set_edgecolor('black')"
   ]
  }
 ],
 "metadata": {
  "kernelspec": {
   "display_name": "Python 3",
   "language": "python",
   "name": "python3"
  },
  "language_info": {
   "codemirror_mode": {
    "name": "ipython",
    "version": 3
   },
   "file_extension": ".py",
   "mimetype": "text/x-python",
   "name": "python",
   "nbconvert_exporter": "python",
   "pygments_lexer": "ipython3",
   "version": "3.5.2"
  }
 },
 "nbformat": 4,
 "nbformat_minor": 0
}
