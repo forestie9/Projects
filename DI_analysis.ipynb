{
 "cells": [
  {
   "cell_type": "code",
   "execution_count": 164,
   "metadata": {
    "collapsed": false
   },
   "outputs": [],
   "source": [
    "import pandas as pd\n",
    "import json\n",
    "import os\n",
    "\n",
    "# preview the data\n",
    "path = '/Users/wzd0011/Dropbox/miscellanea/Job hunting/follow-ups/ID Analytics/data/ida_wrangling_exercise_data.2017-02-13.jsonl'\n",
    "data = []\n",
    "with open(path,'r') as f:\n",
    "    for line in f:\n",
    "        data.append(json.loads(line))\n"
   ]
  },
  {
   "cell_type": "markdown",
   "metadata": {},
   "source": [
    "# Problem 1\n",
    "Start by making a list of all of the nested named fields that appear in any record. \n",
    "Concatenate nested field names using a period '.' to defind named fields for nested records. \n",
    "Present the list in alphabetical order."
   ]
  },
  {
   "cell_type": "code",
   "execution_count": 2,
   "metadata": {
    "collapsed": false
   },
   "outputs": [
    {
     "name": "stdout",
     "output_type": "stream",
     "text": [
      "C:\\Users\\wzd0011\\AppData\\Local\\Continuum\\Anaconda3\\lib\\json\\__init__.py\n"
     ]
    }
   ],
   "source": [
    "import json\n",
    "print(json.__file__) #this would be important to know if it works"
   ]
  },
  {
   "cell_type": "code",
   "execution_count": 5,
   "metadata": {
    "collapsed": false
   },
   "outputs": [
    {
     "name": "stdout",
     "output_type": "stream",
     "text": [
      "['address', 'address.city', 'address.state', 'address.street', 'address.zip', 'dob', 'email', 'id', 'name', 'name.firstname', 'name.lastname', 'name.middlename', 'phone', 'record_date', 'ssn']\n"
     ]
    }
   ],
   "source": [
    "'''import pip \n",
    "def install(package):\n",
    "    pip.main(['install', package])\n",
    "\n",
    "# Example\n",
    "if __name__ == '__main__':\n",
    "    install('jsonlines')\n",
    "'''\n",
    "    \n",
    "import jsonlines\n",
    "\n",
    "def flat_keys(obj, new_obj1={}, keys=[]):\n",
    "    for key, value in obj.items():\n",
    "        if isinstance(value, dict):\n",
    "            # call the function again if the value is a dict\n",
    "            # we go one step deeper: obj[key]\n",
    "            # give the data_name (by reference, so each call edit the *same* object)\n",
    "            # give to used keys: keys + [key]\n",
    "            flat_keys(obj[key], new_obj1, keys + [key])\n",
    "        else:\n",
    "            new_obj1['.'.join(keys + [key])] = value\n",
    "    return new_obj1\n",
    "\n",
    "data_name_list = []\n",
    "\n",
    "with jsonlines.open(path) as f:\n",
    "    for item in f:\n",
    "        new_obj = flat_keys(item,{},[])\n",
    "        if new_obj not in data_name_list:\n",
    "            data_name_list.append(new_obj)\n",
    "    \n",
    "all_keys = set().union(*(d.keys() for d in data_name_list))\n",
    "print(sorted(all_keys))"
   ]
  },
  {
   "cell_type": "markdown",
   "metadata": {
    "collapsed": true
   },
   "source": [
    "# Problem 2\n",
    "Answer the following questions for each field in your list from question 1.\n",
    "- What percentage of the records contain the field?\n",
    "- What are the five most common values of the field?"
   ]
  },
  {
   "cell_type": "code",
   "execution_count": 6,
   "metadata": {
    "collapsed": false
   },
   "outputs": [
    {
     "name": "stdout",
     "output_type": "stream",
     "text": [
      "address : 75193\n",
      "address.city : 61233\n",
      "address.state : 61233\n",
      "address.street : 61233\n",
      "address.zip : 61233\n",
      "dob : 143874\n",
      "email : 130880\n",
      "id : 150000\n",
      "name : 43058\n",
      "name.firstname : 105004\n",
      "name.lastname : 105004\n",
      "name.middlename : 43669\n",
      "phone : 140261\n",
      "record_date : 150000\n",
      "ssn : 142444\n"
     ]
    }
   ],
   "source": [
    "import operator\n",
    "data_name_list_total = {}\n",
    "\n",
    "with jsonlines.open(path) as f:\n",
    "    for item in f:\n",
    "        new_obj = flat_keys(item,{},[])\n",
    "        new_obj = sorted(new_obj.items(), key=operator.itemgetter(0))\n",
    "        for name_obj in new_obj:\n",
    "            if name_obj[0] in data_name_list_total:\n",
    "                data_name_list_total[name_obj[0]] += 1\n",
    "            else:\n",
    "                data_name_list_total[name_obj[0]] = 1\n",
    "\n",
    "for name_obj, occurences in sorted(data_name_list_total.items()):\n",
    "    print(name_obj, ':', occurences)            "
   ]
  },
  {
   "cell_type": "code",
   "execution_count": 66,
   "metadata": {
    "collapsed": false
   },
   "outputs": [
    {
     "name": "stdout",
     "output_type": "stream",
     "text": [
      "Percentage of the records contain the field:\n",
      "address : 50.1%\n",
      "address.city : 40.8%\n",
      "address.state : 40.8%\n",
      "address.street : 40.8%\n",
      "address.zip : 40.8%\n",
      "dob : 95.9%\n",
      "email : 87.3%\n",
      "id : 100.0%\n",
      "name : 28.7%\n",
      "name.firstname : 70.0%\n",
      "name.lastname : 70.0%\n",
      "name.middlename : 29.1%\n",
      "phone : 93.5%\n",
      "record_date : 100.0%\n",
      "ssn : 95.0%\n"
     ]
    }
   ],
   "source": [
    "print(\"Percentage of the records contain the field:\")\n",
    "for name_obj, occurences in sorted(data_name_list_total.items()):\n",
    "    print(name_obj, ':', \"{0:.1f}%\".format( occurences/len(data) * 100)) "
   ]
  },
  {
   "cell_type": "code",
   "execution_count": 65,
   "metadata": {
    "collapsed": false
   },
   "outputs": [
    {
     "name": "stdout",
     "output_type": "stream",
     "text": [
      "The five most common values of the field: \n",
      "record_date\n",
      "id\n",
      "dob\n",
      "ssn\n",
      "phone\n"
     ]
    }
   ],
   "source": [
    "sort_com = sorted(data_name_list_total.items(), key=lambda x: x[1], reverse=True)\n",
    "print('The five most common values of the field: ')\n",
    "for item in sort_com[:5]:\n",
    "    print(item[0])"
   ]
  },
  {
   "cell_type": "markdown",
   "metadata": {
    "collapsed": false
   },
   "source": [
    "# Problem 3\n",
    "How many distinct first names appear in this data set? Explain your procedure for identifying distinct first names."
   ]
  },
  {
   "cell_type": "code",
   "execution_count": 91,
   "metadata": {
    "collapsed": false
   },
   "outputs": [
    {
     "name": "stdout",
     "output_type": "stream",
     "text": [
      "Number of distinct first names:  690\n"
     ]
    }
   ],
   "source": [
    "# similar approach in problem 2, but only count the filed equals to \"name.firstname\"\n",
    "import operator\n",
    "data_name_list_total = []\n",
    "count = 0\n",
    "with jsonlines.open(path) as f:\n",
    "    for item in f:\n",
    "        new_obj = flat_keys(item,{},[])\n",
    "        new_obj = sorted(new_obj.items(), key=operator.itemgetter(0))\n",
    "        for name_obj in new_obj:\n",
    "            if name_obj[0] == \"name.firstname\": \n",
    "                if name_obj[1] not in data_name_list_total:\n",
    "                    data_name_list_total.append(name_obj[1])\n",
    "                    count += 1\n",
    "\n",
    "print(\"Number of distinct first names: \", count)"
   ]
  },
  {
   "cell_type": "markdown",
   "metadata": {},
   "source": [
    "# Problem 4\n",
    "How many distinct street names appear in this data set? Explain your procedure for identifying distinct street names."
   ]
  },
  {
   "cell_type": "code",
   "execution_count": 92,
   "metadata": {
    "collapsed": false
   },
   "outputs": [
    {
     "name": "stdout",
     "output_type": "stream",
     "text": [
      "Number of distinct street names:  61233\n"
     ]
    }
   ],
   "source": [
    "# similar approach in problem 2, but only count the filed equals to \"address.street\"\n",
    "import operator\n",
    "data_name_list_total = []\n",
    "count = 0\n",
    "with jsonlines.open(path) as f:\n",
    "    for item in f:\n",
    "        new_obj = flat_keys(item,{},[])\n",
    "        new_obj = sorted(new_obj.items(), key=operator.itemgetter(0))\n",
    "        for name_obj in new_obj:\n",
    "            if name_obj[0] == \"address.street\": \n",
    "                if name_obj[1] not in data_name_list_total:\n",
    "                    data_name_list_total.append(name_obj[1])\n",
    "                    count += 1\n",
    "\n",
    "print(\"Number of distinct street names: \", count)"
   ]
  },
  {
   "cell_type": "markdown",
   "metadata": {},
   "source": [
    "# Problem 5\n",
    "What are the 5 most common US area codes in the phone number field? Explain your approach to identify the US area codes in this data set."
   ]
  },
  {
   "cell_type": "code",
   "execution_count": 94,
   "metadata": {
    "collapsed": false,
    "scrolled": false
   },
   "outputs": [
    {
     "name": "stdout",
     "output_type": "stream",
     "text": [
      "140260\n"
     ]
    }
   ],
   "source": [
    "# First to check the phone belong to US and then extract the three digits before the dash line or the dot as the area codes\n",
    "import operator\n",
    "phone_list = []\n",
    "with jsonlines.open(path) as f:\n",
    "    for item in f:\n",
    "        new_obj = flat_keys(item,{},[])\n",
    "        new_obj = sorted(new_obj.items(), key=operator.itemgetter(0))\n",
    "        for name_obj in new_obj:\n",
    "            if name_obj[0] == \"phone\": \n",
    "                if name_obj[1] not in phone_list:\n",
    "                    phone_list.append(name_obj[1])\n",
    "print(len(phone_list))                    "
   ]
  },
  {
   "cell_type": "code",
   "execution_count": 115,
   "metadata": {
    "collapsed": false
   },
   "outputs": [],
   "source": [
    "# delete record of phone number beginning with +xx(x) where xx is not 1 \n",
    "phone_list_filter1 = list(filter(lambda x: not x.startswith(\"+\") and not x[1]==1, phone_list))"
   ]
  },
  {
   "cell_type": "code",
   "execution_count": 135,
   "metadata": {
    "collapsed": false
   },
   "outputs": [],
   "source": [
    "# the second filter make sure the string start with the area codes \n",
    "phone_list_filter2 = []\n",
    "for item in phone_list_filter1:\n",
    "    if item.startswith(\"1-\"):\n",
    "        phone_list_filter2.append(item[2:]) \n",
    "    elif item.startswith(\"(\"):\n",
    "        phone_list_filter2.append(item[1:]) \n",
    "    elif item.startswith(\"0\") and len(item)==10:    \n",
    "        phone_list_filter2.append(item[1:]) "
   ]
  },
  {
   "cell_type": "code",
   "execution_count": 163,
   "metadata": {
    "collapsed": false
   },
   "outputs": [
    {
     "name": "stdout",
     "output_type": "stream",
     "text": [
      "The five most common area codes: \n",
      "226\n",
      "012\n",
      "380\n",
      "469\n",
      "156\n"
     ]
    }
   ],
   "source": [
    "# read the first three digits\n",
    "phone_list_filter3 = []\n",
    "for item in phone_list_filter2:\n",
    "    first_three = item[:3]\n",
    "    phone_list_filter3.append(first_three)\n",
    "\n",
    "# print the 5 most common US area code \n",
    "from collections import Counter\n",
    "code_data = Counter(phone_list_filter3)\n",
    "print('The five most common area codes: ')\n",
    "for item in code_data.most_common(5):\n",
    "    print(item[0])"
   ]
  }
 ],
 "metadata": {
  "kernelspec": {
   "display_name": "Python 3",
   "language": "python",
   "name": "python3"
  },
  "language_info": {
   "codemirror_mode": {
    "name": "ipython",
    "version": 3
   },
   "file_extension": ".py",
   "mimetype": "text/x-python",
   "name": "python",
   "nbconvert_exporter": "python",
   "pygments_lexer": "ipython3",
   "version": "3.5.2"
  }
 },
 "nbformat": 4,
 "nbformat_minor": 0
}
