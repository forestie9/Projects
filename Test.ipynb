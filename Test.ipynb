{
 "cells": [
  {
   "cell_type": "code",
   "execution_count": null,
   "metadata": {
    "collapsed": true
   },
   "outputs": [],
   "source": [
    "# count the combinations\n",
    "def count_2(n):\n",
    "    mod = int(n/2)\n",
    "    remainder = n%2\n",
    "    return mod,remainder\n",
    "\n",
    "def count_3(n):\n",
    "    mod = int(n/2)\n",
    "    remainder = n%2    \n",
    "    return mod,remainder\n",
    "\n",
    "# fibonacci n\n",
    "def fib(n): \n",
    "    if sqrt(5*n**2+4)%1==0 or sqrt(5*n**2-4)%1==0:\n",
    "        return n\n",
    "    else:\n",
    "        c = 0\n",
    "        while 1:\n",
    "            c += 1\n",
    "            if sqrt(5*(n+c)**2+4)%1==0 or sqrt(5*(n+c)**2-4)%1==0:\n",
    "                return (n+c)\n",
    "                break\n",
    "            if sqrt(5*(n-c)**2+4)%1==0 or sqrt(5*(n-c)**2-4)%1==0:\n",
    "                return (n-c)\n",
    "                break \n",
    "\n",
    "# pseudo fibonacci \n",
    "def fib_2(n):\n",
    " \n",
    "    # calculating the fibonacci and storing the values\n",
    "    for i in xrange(5 , n+1):\n",
    "        f[i] = 3 + f[i-2]\n",
    "    return f[n]\n",
    "\n",
    "# Driver program to test the above function\n",
    "def main():\n",
    "    n = 100\n",
    "    m = fib(n) # closest fibonacci number\n",
    "    l = math.log(m*math.sqrt(5)+0.5)/math.log(1.61803398875)-1 # nth fibonacci number\n",
    "    c1 = fib_2(l)\n",
    "    \n",
    "    \n",
    "    print \"Combination is \" , fib(n)\n",
    " \n",
    "if __name__==\"__main__\":\n",
    "    main()"
   ]
  }
 ],
 "metadata": {
  "kernelspec": {
   "display_name": "Python 3",
   "language": "python",
   "name": "python3"
  },
  "language_info": {
   "codemirror_mode": {
    "name": "ipython",
    "version": 3
   },
   "file_extension": ".py",
   "mimetype": "text/x-python",
   "name": "python",
   "nbconvert_exporter": "python",
   "pygments_lexer": "ipython3",
   "version": "3.5.2"
  }
 },
 "nbformat": 4,
 "nbformat_minor": 0
}
